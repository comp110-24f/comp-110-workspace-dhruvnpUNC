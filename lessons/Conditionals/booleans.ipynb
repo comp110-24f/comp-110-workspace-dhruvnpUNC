{
 "cells": [
  {
   "cell_type": "markdown",
   "metadata": {},
   "source": [
    "## Boolean Operators\n",
    "\n",
    "- Not, and, or\n",
    "- can be used to express more with booleans\n",
    "    - it is not rainy: not(weather == \"rain\")\n",
    "    - it is rainy and it is cold: (weather == \"rain\") and (weather == \"cold\")"
   ]
  },
  {
   "cell_type": "markdown",
   "metadata": {},
   "source": [
    "## Not\n",
    "\n",
    "- not inverts the value of a boolean expression"
   ]
  },
  {
   "cell_type": "code",
   "execution_count": 2,
   "metadata": {},
   "outputs": [
    {
     "name": "stdout",
     "output_type": "stream",
     "text": [
      "False\n",
      "True\n",
      "True\n",
      "False\n"
     ]
    }
   ],
   "source": [
    "b = True\n",
    "a = False\n",
    "print(a) # False\n",
    "print(not(a)) # Not False -> True\n",
    "print(b) # True\n",
    "print(not(b)) # Not True -> False"
   ]
  },
  {
   "cell_type": "markdown",
   "metadata": {},
   "source": [
    "## and\n",
    "- booleans combined with an evalute to true if and only if both booleans are true"
   ]
  },
  {
   "cell_type": "code",
   "execution_count": 4,
   "metadata": {},
   "outputs": [
    {
     "name": "stdout",
     "output_type": "stream",
     "text": [
      "True\n",
      "False\n"
     ]
    }
   ],
   "source": [
    "a = True\n",
    "b = True\n",
    "c = False\n",
    "\n",
    "print(a and b) # true and true -> True\n",
    "print(b and c) # true and false -> False"
   ]
  },
  {
   "cell_type": "markdown",
   "metadata": {},
   "source": [
    "## Or\n",
    "\n",
    "- booleans combined with or evaluate to True if at least one is true"
   ]
  },
  {
   "cell_type": "code",
   "execution_count": null,
   "metadata": {},
   "outputs": [],
   "source": [
    "a = True\n",
    "b = True\n",
    "c = False\n",
    "\n",
    "print(a or b) # true or true -> true\n",
    "print(b or c) # true or false -> true\n",
    "print(c or c) # false or false -> false"
   ]
  },
  {
   "cell_type": "markdown",
   "metadata": {},
   "source": [
    "## Ordering\n",
    "\n",
    "- P(arenthesis)\n",
    "- E(xponents)\n",
    "- MD(multiplication/division) \n",
    "- AS(addition/subtraction)\n",
    "- not\n",
    "- and\n",
    "- or"
   ]
  },
  {
   "cell_type": "markdown",
   "metadata": {},
   "source": [
    "## Conditionals\n",
    "```\n",
    "if <something>:\n",
    "    <do something>\n",
    "<rest of program>\n",
    "```"
   ]
  },
  {
   "cell_type": "code",
   "execution_count": 5,
   "metadata": {},
   "outputs": [
    {
     "name": "stdout",
     "output_type": "stream",
     "text": [
      "this is true!\n"
     ]
    }
   ],
   "source": [
    "if True:\n",
    "    print(\"this is true!\")\n",
    "\n",
    "if False:\n",
    "    print(\"this won't print at all!\")"
   ]
  },
  {
   "cell_type": "markdown",
   "metadata": {},
   "source": [
    "```\n",
    "if <something>\n",
    "    <do something>\n",
    "else:\n",
    "    <do something>\n",
    "```"
   ]
  },
  {
   "cell_type": "markdown",
   "metadata": {},
   "source": [
    "```\n",
    "if <something>:\n",
    "    <do something>\n",
    "else if <something>:\n",
    "    <do something>\n",
    "else:\n",
    "    <do something>\n",
    "```"
   ]
  }
 ],
 "metadata": {
  "kernelspec": {
   "display_name": "Python 3",
   "language": "python",
   "name": "python3"
  },
  "language_info": {
   "codemirror_mode": {
    "name": "ipython",
    "version": 3
   },
   "file_extension": ".py",
   "mimetype": "text/x-python",
   "name": "python",
   "nbconvert_exporter": "python",
   "pygments_lexer": "ipython3",
   "version": "3.12.4"
  }
 },
 "nbformat": 4,
 "nbformat_minor": 2
}
