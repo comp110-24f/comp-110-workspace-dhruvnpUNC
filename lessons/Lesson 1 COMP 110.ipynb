{
 "cells": [
  {
   "cell_type": "markdown",
   "metadata": {},
   "source": [
    "# CL01: Objects and Data Types"
   ]
  },
  {
   "cell_type": "markdown",
   "metadata": {},
   "source": [
    "An object is a typed unit of data in memory.\n",
    "\n",
    "Every object has an type, which classifies it so the computer knows how the object should be represented and interpreted. An object's type also determines how users can manipulate it.\n"
   ]
  },
  {
   "cell_type": "code",
   "execution_count": null,
   "metadata": {},
   "outputs": [],
   "source": [
    "#Numerical Built-In types\n",
    "\n",
    "type(1) #int\n",
    "type(0.434) #float\n",
    "type(True) #bool\n",
    "type('Hello World') #str (strings)"
   ]
  },
  {
   "cell_type": "markdown",
   "metadata": {},
   "source": [
    "## Indexing"
   ]
  },
  {
   "cell_type": "markdown",
   "metadata": {},
   "source": [
    "Subscription syntax refers to the use of square brackets that allows you to access an item in a given sequence.\n",
    "\n",
    "In most coding languages the first index starts at 0"
   ]
  },
  {
   "cell_type": "code",
   "execution_count": 1,
   "metadata": {},
   "outputs": [
    {
     "name": "stdout",
     "output_type": "stream",
     "text": [
      "H\n",
      "H\n",
      "Ho\n",
      "tur\n"
     ]
    }
   ],
   "source": [
    "print(\"Howdy\"[0]) #Prints the character in the first index.\n",
    "print(\"Howdy\"[0:1]) #Prints the character in the first index. The second positional argument is not included.\n",
    "print(\"Howdy\"[0:2]) #Prints the first two characters.\n",
    "print(\"saturday\"[2:5])"
   ]
  },
  {
   "cell_type": "markdown",
   "metadata": {},
   "source": [
    "## Docstrings\n",
    "\n",
    "A String written at the top of every file to describe its purpose. Its usually denoted by triple double quotations. (\"\"\" \"\"\")"
   ]
  },
  {
   "cell_type": "markdown",
   "metadata": {},
   "source": [
    "## Booleans\n",
    "\n",
    "- Keyword is bool\n",
    "\n",
    "- Evaluates to True or False"
   ]
  },
  {
   "cell_type": "code",
   "execution_count": 4,
   "metadata": {},
   "outputs": [
    {
     "name": "stdout",
     "output_type": "stream",
     "text": [
      "<class 'bool'>\n",
      "<class 'bool'>\n"
     ]
    }
   ],
   "source": [
    "print(type(1 > 2))\n",
    "print(type(1 < 2))"
   ]
  },
  {
   "cell_type": "markdown",
   "metadata": {},
   "source": [
    "## Casting\n",
    "\n",
    "You can change the type of an object through casting. You can do this by typing the datatype you want to convert to, followed by parenthesis, followed by the data you want to convert.\n",
    "\n",
    "- float()\n",
    "- str()\n",
    "- int()"
   ]
  },
  {
   "cell_type": "code",
   "execution_count": 8,
   "metadata": {},
   "outputs": [
    {
     "name": "stdout",
     "output_type": "stream",
     "text": [
      "<class 'str'>\n",
      "<class 'int'>\n"
     ]
    }
   ],
   "source": [
    "print(type('123'))\n",
    "\n",
    "print(type(int('123')))"
   ]
  },
  {
   "cell_type": "markdown",
   "metadata": {},
   "source": [
    "## Algorithm\n",
    "\n",
    "- An algorithm step of steps to solve a problem\n",
    "- Algorithm's are finite\n",
    "- Can handle a problem of an arbitrary (random) size."
   ]
  },
  {
   "cell_type": "markdown",
   "metadata": {},
   "source": [
    "## Pseudocode\n",
    "\n",
    "Looks like code, but its a simplified version and is meant to be readable. \n",
    "\n",
    "Pseudocode is not meant to run on a computer as it exists to help you outline what your algorithm is supposed to look like."
   ]
  },
  {
   "cell_type": "markdown",
   "metadata": {},
   "source": [
    "## Addition\n",
    "\n",
    "- If numerical objects, add the values togther\n",
    "    - 1 + 1 = 2\n",
    "    - 1.0 + 2.0 = 3.0\n",
    "- If strings, concatenate them\n",
    "    - \"Comp\" + \"110\" = \"Comp110\"\n",
    "- The result type depends on the types of variables inputted.\n",
    "    - float + float = float\n",
    "    - int + int = int\n",
    "    - float + int = float\n",
    "    - int + float = float\n",
    "    - str + str = str\n"
   ]
  },
  {
   "cell_type": "code",
   "execution_count": null,
   "metadata": {},
   "outputs": [],
   "source": [
    "print(type(1.0 + 2.0))\n",
    "print(type(1.0 + 2.0))\n",
    "print(type(1.0 + 2.0))\n",
    "print(type(1.0 + 2.0))"
   ]
  },
  {
   "cell_type": "markdown",
   "metadata": {},
   "source": [
    "## Subtraction\n",
    "\n",
    "- Meant strictly for numerical types\n",
    "    - 3 - 2 = 1\n",
    "    - 4.0 - 2.0 = 2.0\n",
    "    - 4.0 - 2 = 2.0\n",
    "    - -(1+1) = -2\n",
    "- The result type depends on the types of variables inputted."
   ]
  },
  {
   "cell_type": "markdown",
   "metadata": {},
   "source": [
    "## Multiplication\n",
    "\n",
    "- If numerical objects, multiply the values\n",
    "    - 1*1 = 1\n",
    "    - 1.0*2.0 = 2.0\n",
    "- If string and int, repeat the string\n",
    "    - \"hello\" * 3 = \"hellohellohello\"\n",
    "- the result type depends on the types of variables inputted.\n"
   ]
  },
  {
   "cell_type": "markdown",
   "metadata": {},
   "source": [
    "## Division\n",
    "\n",
    "- Meant strictly for numerical types\n",
    "    - 3.2 = 1.5\n",
    "    - 4.0/2.0 = 2.0\n",
    "    - 4.0/2 = 2.0\n",
    "- Division always results in a float"
   ]
  },
  {
   "cell_type": "markdown",
   "metadata": {},
   "source": [
    "## Exponentiation **\n",
    "\n",
    "- Meant strictly for numerical types\n",
    "    - 2 ** 2 = 4\n",
    "    - 2.0 ** 2.0 = 4.0\n",
    "- The result type depends on the types of variables inputted"
   ]
  },
  {
   "cell_type": "markdown",
   "metadata": {},
   "source": [
    "## Modulo\n",
    "\n",
    "- Calculates the remainder when you divide two numbers\n",
    "- Meant strictly for numerical types\n",
    "    - 5 % 2 = 1\n",
    "    - 6 % 3 = 0\n",
    "- The result type depends on the types of variables inputted\n",
    "    - int % int = int\n",
    "    - float % float = float\n",
    "    - float % int = float\n",
    "    - int % float = float\n",
    "- Note:\n",
    "    - if x is even, x % 2 = 0\n",
    "    - if x is odd, x % 2 = 1"
   ]
  },
  {
   "cell_type": "markdown",
   "metadata": {},
   "source": [
    "## Order of Operations\n",
    "\n",
    "- Parenthesis ()\n",
    "- Exponents **\n",
    "- Multiplication/Division */%\n",
    "- Addition/Subtraction + -\n",
    "- Tie? Evaluate Left to Right"
   ]
  },
  {
   "cell_type": "markdown",
   "metadata": {},
   "source": [
    "## Relational Operators\n",
    "\n",
    "- Always result in a bool (True or False)\n"
   ]
  },
  {
   "cell_type": "markdown",
   "metadata": {},
   "source": [
    "## Functions\n",
    "\n",
    "A function is a sub-program that executes pre-defined lines of code when called upon."
   ]
  },
  {
   "cell_type": "code",
   "execution_count": 1,
   "metadata": {},
   "outputs": [
    {
     "name": "stdout",
     "output_type": "stream",
     "text": [
      "Hi\n"
     ]
    }
   ],
   "source": [
    "def hi():\n",
    "    print(\"Hi\")\n",
    "\n",
    "hi()"
   ]
  },
  {
   "cell_type": "markdown",
   "metadata": {},
   "source": [
    "Function Call: expressions that result in a \"return\" a specific type\n",
    "Common expressions:\n",
    "- \"Making a function call\"\n",
    "- \"Using a function\"\n",
    "- \"invoking a function\""
   ]
  }
 ],
 "metadata": {
  "kernelspec": {
   "display_name": "Python 3",
   "language": "python",
   "name": "python3"
  },
  "language_info": {
   "codemirror_mode": {
    "name": "ipython",
    "version": 3
   },
   "file_extension": ".py",
   "mimetype": "text/x-python",
   "name": "python",
   "nbconvert_exporter": "python",
   "pygments_lexer": "ipython3",
   "version": "3.12.4"
  }
 },
 "nbformat": 4,
 "nbformat_minor": 2
}
